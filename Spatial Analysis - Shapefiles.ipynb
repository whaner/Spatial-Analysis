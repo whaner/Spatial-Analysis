{
 "cells": [
  {
   "cell_type": "code",
   "execution_count": null,
   "id": "1f42685a",
   "metadata": {},
   "outputs": [],
   "source": [
    "# https://www.earthdatascience.org/courses/use-data-open-source-python/intro-vector-data-python/spatial-data-vector-shapefiles/geographic-vs-projected-coordinate-reference-systems-python/\n",
    "#https://epsg.io/\n",
    "#https://www.earthdatascience.org/courses/use-data-open-source-python/intro-vector-data-python/spatial-data-vector-shapefiles/epsg-proj4-coordinate-reference-system-formats-python/\n",
    "#https://spatialreference.org/ref/epsg/\n"
   ]
  },
  {
   "cell_type": "markdown",
   "id": "333fde8c",
   "metadata": {},
   "source": [
    "### Instalando os pacotes necessários"
   ]
  },
  {
   "cell_type": "code",
   "execution_count": null,
   "id": "c970f5e6",
   "metadata": {},
   "outputs": [],
   "source": [
    "pip install geopandas==0.10.2"
   ]
  },
  {
   "cell_type": "code",
   "execution_count": null,
   "id": "473b3065",
   "metadata": {},
   "outputs": [],
   "source": [
    "pip install fiona"
   ]
  },
  {
   "cell_type": "code",
   "execution_count": null,
   "id": "d8891ba7",
   "metadata": {},
   "outputs": [],
   "source": [
    "pip install folium"
   ]
  },
  {
   "cell_type": "code",
   "execution_count": null,
   "id": "e18186aa",
   "metadata": {},
   "outputs": [],
   "source": [
    "pip install matplotlib"
   ]
  },
  {
   "cell_type": "code",
   "execution_count": null,
   "id": "4ee9795f",
   "metadata": {},
   "outputs": [],
   "source": [
    "pip install mapclassify"
   ]
  },
  {
   "cell_type": "markdown",
   "id": "73170052",
   "metadata": {},
   "source": [
    "## Importando as bibliotecas"
   ]
  },
  {
   "cell_type": "code",
   "execution_count": null,
   "id": "58de984b",
   "metadata": {},
   "outputs": [],
   "source": [
    "import pandas as pd\n",
    "import geopandas as gpd\n",
    "import matplotlib.pyplot as plt\n",
    "import fiona\n",
    "import numpy as np"
   ]
  },
  {
   "cell_type": "markdown",
   "id": "14021eae",
   "metadata": {},
   "source": [
    "# Parte introdutória"
   ]
  },
  {
   "cell_type": "markdown",
   "id": "5fd00f67",
   "metadata": {},
   "source": [
    "## Carregando os dados"
   ]
  },
  {
   "cell_type": "code",
   "execution_count": null,
   "id": "30caa0c9",
   "metadata": {},
   "outputs": [],
   "source": [
    "# Esse enconding serviu para os dados no meu ambiente.\n",
    "shp_sp = gpd.read_file('estado_sp.shp', encoding = 'windows-1252')"
   ]
  },
  {
   "cell_type": "markdown",
   "id": "abd3b0d5",
   "metadata": {},
   "source": [
    "### Características do shapefile"
   ]
  },
  {
   "cell_type": "code",
   "execution_count": null,
   "id": "d67566cc",
   "metadata": {},
   "outputs": [],
   "source": [
    "print(type(shp_sp))\n",
    "print(len(shp_sp))\n",
    "print(shp_sp.bounds)\n",
    "print(shp_sp.info())\n",
    "shp_sp.crs"
   ]
  },
  {
   "cell_type": "code",
   "execution_count": null,
   "id": "766b06ce",
   "metadata": {},
   "outputs": [],
   "source": [
    "shp_sp.head()"
   ]
  },
  {
   "cell_type": "code",
   "execution_count": null,
   "id": "2f5218f6",
   "metadata": {},
   "outputs": [],
   "source": [
    "### Alterando o nome das colunas para facilitar a manipulação dos dados\n",
    "shp_sp.rename(columns = {'NM_MUNICIP':'municipio', 'CD_GEOCMU': 'codigo'}, inplace = True)\n",
    "shp_sp"
   ]
  },
  {
   "cell_type": "markdown",
   "id": "afa07ef2",
   "metadata": {},
   "source": [
    "### Acessando os dados"
   ]
  },
  {
   "cell_type": "code",
   "execution_count": null,
   "id": "3c596bec",
   "metadata": {},
   "outputs": [],
   "source": [
    "shp_sp[shp_sp['municipio'] == 'SÃO PAULO']"
   ]
  },
  {
   "cell_type": "code",
   "execution_count": null,
   "id": "dfebdbe9",
   "metadata": {},
   "outputs": [],
   "source": [
    "shp_sp['codigo']"
   ]
  },
  {
   "cell_type": "code",
   "execution_count": null,
   "id": "61a4cf18",
   "metadata": {},
   "outputs": [],
   "source": [
    "shp_sp['geometry']"
   ]
  },
  {
   "cell_type": "markdown",
   "id": "987b675f",
   "metadata": {},
   "source": [
    "## Plotando o mapa\n",
    "### Veja que é muuuuuuuito mais rápido que o R. Na minha máquina, a plotagem no R demorou mais de 30s"
   ]
  },
  {
   "cell_type": "code",
   "execution_count": null,
   "id": "0ffaef28",
   "metadata": {
    "scrolled": false
   },
   "outputs": [],
   "source": [
    "shp_sp.plot(figsize=(10,10))"
   ]
  },
  {
   "cell_type": "markdown",
   "id": "d2127985",
   "metadata": {},
   "source": [
    "### Usando o método explore para criar um mapa interativo"
   ]
  },
  {
   "cell_type": "code",
   "execution_count": null,
   "id": "edc30a6d",
   "metadata": {
    "scrolled": false
   },
   "outputs": [],
   "source": [
    "shp_sp.explore()"
   ]
  },
  {
   "cell_type": "markdown",
   "id": "f39916bd",
   "metadata": {},
   "source": [
    "# Manipulação dos dados"
   ]
  },
  {
   "cell_type": "markdown",
   "id": "2686b1b9",
   "metadata": {},
   "source": [
    "## Cálculo da área"
   ]
  },
  {
   "cell_type": "markdown",
   "id": "5acbce72",
   "metadata": {},
   "source": [
    "### Veja que no R a library para calcular a área o faz, independentement do fato da unidade dos dados ser em graus ou metros, devido ao CRS. No python, temos que usar um CRS em metros, ou seja, a referência é a mesma, mas, em vez de lat e long vamos usar metros. Como nosso shapefile estava em lat/long usamos o 5880."
   ]
  },
  {
   "cell_type": "code",
   "execution_count": null,
   "id": "1ee258b4",
   "metadata": {},
   "outputs": [],
   "source": [
    "#Mostra que a unidade do CRS é em graus (longitude e latitude) -> Vai precisar alterar para metros para calcular as áreas\n",
    "shp_sp.crs"
   ]
  },
  {
   "cell_type": "code",
   "execution_count": null,
   "id": "ee0fe443",
   "metadata": {},
   "outputs": [],
   "source": [
    "#CRS retirados de https://epsg.io/?q=brazil\n",
    "#Transforma para o CRS 5880 que está com unidade em metros\n",
    "shp_sp_m = shp_sp.to_crs(5880)"
   ]
  },
  {
   "cell_type": "code",
   "execution_count": null,
   "id": "7ed6853e",
   "metadata": {},
   "outputs": [],
   "source": [
    "shp_sp_m.crs"
   ]
  },
  {
   "cell_type": "markdown",
   "id": "33f7c2b2",
   "metadata": {},
   "source": [
    "### Note que as unidade dos eixos x e y do mapa, agora estão em metros. "
   ]
  },
  {
   "cell_type": "code",
   "execution_count": null,
   "id": "12c2e863",
   "metadata": {
    "scrolled": true
   },
   "outputs": [],
   "source": [
    "shp_sp_m.plot(figsize=(5,5))"
   ]
  },
  {
   "cell_type": "code",
   "execution_count": null,
   "id": "f9443c7e",
   "metadata": {
    "scrolled": false
   },
   "outputs": [],
   "source": [
    "shp_sp_m['area'] = shp_sp_m.area/1000000 #Cria um novo feature no dataframe, chamado area, com os valores calculados.\n",
    "shp_sp_m\n",
    "# Veja que o valor das áreas calculadas tem uma pequena diferença em relação ao R..."
   ]
  },
  {
   "cell_type": "markdown",
   "id": "a8768480",
   "metadata": {},
   "source": [
    "### Visualização interativa"
   ]
  },
  {
   "cell_type": "code",
   "execution_count": null,
   "id": "9f8226c2",
   "metadata": {},
   "outputs": [],
   "source": [
    "shp_sp_m.explore(\"area\")"
   ]
  },
  {
   "cell_type": "markdown",
   "id": "323ccb78",
   "metadata": {},
   "source": [
    "## E caso haja a necessidade da inserção de dados externos?"
   ]
  },
  {
   "cell_type": "markdown",
   "id": "9201beb0",
   "metadata": {},
   "source": [
    "### Vamos usar a biblioteca pyreadr para ler arquivos do tipo RData no Python"
   ]
  },
  {
   "cell_type": "code",
   "execution_count": null,
   "id": "f284cc77",
   "metadata": {},
   "outputs": [],
   "source": [
    "# pip install pyreadr\n",
    "import pyreadr"
   ]
  },
  {
   "cell_type": "code",
   "execution_count": null,
   "id": "af3703ea",
   "metadata": {},
   "outputs": [],
   "source": [
    "dadossp = pyreadr.read_r('dados_sp.RData')"
   ]
  },
  {
   "cell_type": "code",
   "execution_count": null,
   "id": "1c5a7f78",
   "metadata": {},
   "outputs": [],
   "source": [
    "dadossp"
   ]
  },
  {
   "cell_type": "code",
   "execution_count": null,
   "id": "1532b302",
   "metadata": {},
   "outputs": [],
   "source": [
    "# Veja que o tipo de objeto é um dicionário ordenado.\n",
    "type(dadossp)"
   ]
  },
  {
   "cell_type": "code",
   "execution_count": null,
   "id": "1832b140",
   "metadata": {},
   "outputs": [],
   "source": [
    "# Vamos obter a chave do dicionário para poder extrair os dados.\n",
    "print(dadossp.keys())"
   ]
  },
  {
   "cell_type": "code",
   "execution_count": null,
   "id": "8f64923b",
   "metadata": {},
   "outputs": [],
   "source": [
    "dados_sp = dadossp['dados_sp']"
   ]
  },
  {
   "cell_type": "code",
   "execution_count": null,
   "id": "c9517647",
   "metadata": {},
   "outputs": [],
   "source": [
    "dados_sp"
   ]
  },
  {
   "cell_type": "code",
   "execution_count": null,
   "id": "7a7cece5",
   "metadata": {},
   "outputs": [],
   "source": [
    "#O código do municipio estava era um número float e precisa ser transformado em str para poder ser utilizado com o shapefile.\n",
    "dados_sp['codigo'] = dados_sp['codigo'].astype(int)\n",
    "dados_sp['codigo'] = dados_sp['codigo'].astype(str)"
   ]
  },
  {
   "cell_type": "markdown",
   "id": "80f4a7a8",
   "metadata": {},
   "source": [
    "## Fazendo o merge dos dois datasets, usando o codigo como index"
   ]
  },
  {
   "cell_type": "code",
   "execution_count": null,
   "id": "e708c11b",
   "metadata": {},
   "outputs": [],
   "source": [
    "print(shp_sp_m.columns)\n",
    "print(dados_sp.columns)"
   ]
  },
  {
   "cell_type": "code",
   "execution_count": null,
   "id": "103a6271",
   "metadata": {},
   "outputs": [],
   "source": [
    "shp_dados_sp = shp_sp_m.merge(dados_sp, how='inner', on='codigo')"
   ]
  },
  {
   "cell_type": "code",
   "execution_count": null,
   "id": "ecba6b80",
   "metadata": {},
   "outputs": [],
   "source": [
    "print(shp_dados_sp.shape)\n",
    "shp_dados_sp.head()"
   ]
  },
  {
   "cell_type": "code",
   "execution_count": null,
   "id": "304322d1",
   "metadata": {},
   "outputs": [],
   "source": [
    "plt.hist(shp_dados_sp['idh'], bins = 'auto')\n",
    "plt.title(\"IDH\")"
   ]
  },
  {
   "cell_type": "code",
   "execution_count": null,
   "id": "d1617428",
   "metadata": {},
   "outputs": [],
   "source": [
    "shp_dados_sp['idh'].plot(kind = 'hist')"
   ]
  },
  {
   "cell_type": "markdown",
   "id": "e37dc8f6",
   "metadata": {},
   "source": [
    "# Visualização de dados espaciais"
   ]
  },
  {
   "cell_type": "code",
   "execution_count": null,
   "id": "84afc5c2",
   "metadata": {
    "scrolled": false
   },
   "outputs": [],
   "source": [
    "f, ax = plt.subplots(1, figsize=(12, 8))\n",
    "shp_dados_sp.plot(column='idh', scheme='QUANTILES', ax=ax,\n",
    "        edgecolor='white', legend=True, linewidth=0.3)\n",
    "ax.set_axis_off()\n",
    "plt.title('A distribuição do IDH no estado de SP', fontsize = 20)\n",
    "\n",
    "plt.show()"
   ]
  },
  {
   "cell_type": "code",
   "execution_count": null,
   "id": "dad4431f",
   "metadata": {},
   "outputs": [],
   "source": [
    "shp_dados_sp.head()"
   ]
  },
  {
   "cell_type": "markdown",
   "id": "3bd19727",
   "metadata": {},
   "source": [
    "### Gráfico interativo relacionado à alguma feature"
   ]
  },
  {
   "cell_type": "code",
   "execution_count": null,
   "id": "2517be5f",
   "metadata": {},
   "outputs": [],
   "source": [
    "shp_dados_sp.explore('pib')"
   ]
  },
  {
   "cell_type": "markdown",
   "id": "cb5330f1",
   "metadata": {},
   "source": [
    "# Desmembrando shapefiles"
   ]
  },
  {
   "cell_type": "code",
   "execution_count": null,
   "id": "35f366c9",
   "metadata": {},
   "outputs": [],
   "source": [
    "shp_mundo = gpd.read_file('mundo.shp')\n",
    "#shp_sp = gpd.read_file('estado_sp.shp', encoding = 'windows-1252')"
   ]
  },
  {
   "cell_type": "code",
   "execution_count": null,
   "id": "bfac266b",
   "metadata": {},
   "outputs": [],
   "source": [
    "shp_mundo.plot(figsize = (10,10))"
   ]
  },
  {
   "cell_type": "code",
   "execution_count": null,
   "id": "b72c537f",
   "metadata": {},
   "outputs": [],
   "source": [
    "shp_mundo.head()"
   ]
  },
  {
   "cell_type": "markdown",
   "id": "71ee8851",
   "metadata": {},
   "source": [
    "## Plotando somente a América do Sul"
   ]
  },
  {
   "cell_type": "code",
   "execution_count": null,
   "id": "35db0d9d",
   "metadata": {},
   "outputs": [],
   "source": [
    "#Criando um filtro\n",
    "americadosul = shp_mundo['contnnt'] == 'South America'"
   ]
  },
  {
   "cell_type": "code",
   "execution_count": null,
   "id": "ce3e8d4d",
   "metadata": {},
   "outputs": [],
   "source": [
    "shp_mundo[americadosul].plot(figsize=(10,10))"
   ]
  },
  {
   "cell_type": "markdown",
   "id": "e273f8cd",
   "metadata": {},
   "source": [
    "# Combinando shapefiles"
   ]
  },
  {
   "cell_type": "markdown",
   "id": "9ec91dc7",
   "metadata": {},
   "source": [
    "## Carregando os shapefiles necessários"
   ]
  },
  {
   "cell_type": "code",
   "execution_count": null,
   "id": "e8ce3dcc",
   "metadata": {},
   "outputs": [],
   "source": [
    "shp_argentina = gpd.read_file('argentina_shapefile.shp')\n",
    "shp_brasil = gpd.read_file('brasil_shapefile.shp')\n",
    "shp_paraguai = gpd.read_file('paraguai_shapefile.shp')\n",
    "shp_venezuela = gpd.read_file('venezuela_shapefile.shp')"
   ]
  },
  {
   "cell_type": "code",
   "execution_count": null,
   "id": "e21a30e1",
   "metadata": {},
   "outputs": [],
   "source": [
    "shp_mercosul = gpd.GeoDataFrame(pd.concat([shp_argentina, shp_brasil, shp_paraguai, shp_venezuela]))"
   ]
  },
  {
   "cell_type": "code",
   "execution_count": null,
   "id": "41993f09",
   "metadata": {},
   "outputs": [],
   "source": [
    "shp_mercosul"
   ]
  },
  {
   "cell_type": "code",
   "execution_count": null,
   "id": "0533ba62",
   "metadata": {},
   "outputs": [],
   "source": [
    "f, ax = plt.subplots(1, figsize=(12, 8))\n",
    "shp_mercosul.plot(column='mercosul', ax=ax,\n",
    "        edgecolor='white', legend=True, linewidth=0.3)\n",
    "ax.set_axis_off()\n",
    "plt.title('Membresia no Mercosul', fontsize = 20)\n",
    "\n",
    "plt.show()"
   ]
  },
  {
   "cell_type": "code",
   "execution_count": null,
   "id": "dcbfc615",
   "metadata": {},
   "outputs": [],
   "source": []
  }
 ],
 "metadata": {
  "kernelspec": {
   "display_name": "Python 3",
   "language": "python",
   "name": "python3"
  },
  "language_info": {
   "codemirror_mode": {
    "name": "ipython",
    "version": 3
   },
   "file_extension": ".py",
   "mimetype": "text/x-python",
   "name": "python",
   "nbconvert_exporter": "python",
   "pygments_lexer": "ipython3",
   "version": "3.7.11"
  }
 },
 "nbformat": 4,
 "nbformat_minor": 5
}
