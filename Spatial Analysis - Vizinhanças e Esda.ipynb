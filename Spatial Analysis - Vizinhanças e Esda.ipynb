{
 "cells": [
  {
   "cell_type": "markdown",
   "id": "3e0d7574",
   "metadata": {},
   "source": [
    "## Análise Espacial - MBA em DSA - USP-ESALQ - Prof. Dr. Rafael de Freitas Souza"
   ]
  },
  {
   "cell_type": "markdown",
   "id": "050e58f4",
   "metadata": {},
   "source": [
    "## Aula 3 - Vizinhanças e Esda - Exploratory Spatial Data Analysis"
   ]
  },
  {
   "cell_type": "markdown",
   "id": "ac1e294b",
   "metadata": {},
   "source": [
    "## Importando as bibliotecas. Não esqueça de verificar quais vc precisa instalar."
   ]
  },
  {
   "cell_type": "code",
   "execution_count": null,
   "id": "0d93d883",
   "metadata": {},
   "outputs": [],
   "source": [
    "import pandas as pd\n",
    "import numpy as np\n",
    "from scipy import stats\n",
    "import statsmodels.formula.api as sm\n",
    "\n",
    "# para gráficos\n",
    "%matplotlib inline\n",
    "import matplotlib.pyplot as plt\n",
    "import seaborn as sns\n",
    "import esda"
   ]
  },
  {
   "cell_type": "code",
   "execution_count": null,
   "id": "88ae0e79",
   "metadata": {},
   "outputs": [],
   "source": [
    "import geopandas as gpd\n",
    "#import pysal as ps\n",
    "#import splot\n",
    "#import mapclassify as mc\n",
    "#from libpysal import weights\n",
    "#from esda import Moran, Moran_local, G_local\n",
    "#from splot.esda import plot_moran, moran_scatterplot, lisa_cluster, plot_local_autocorrelation "
   ]
  },
  {
   "cell_type": "markdown",
   "id": "282ed9d8",
   "metadata": {},
   "source": [
    "# Estabelecendo vizinhanças"
   ]
  },
  {
   "cell_type": "code",
   "execution_count": null,
   "id": "175d3c21",
   "metadata": {},
   "outputs": [],
   "source": [
    "#Carregando o shapflie do estado de SP\n",
    "shp_sp = gpd.read_file('shapefiles/estado_sp.shp', encoding = 'windows-1252')"
   ]
  },
  {
   "cell_type": "code",
   "execution_count": null,
   "id": "63329c1f",
   "metadata": {},
   "outputs": [],
   "source": [
    "#Plotando o shapefile\n",
    "shp_sp.plot(figsize = (5,5))"
   ]
  },
  {
   "cell_type": "markdown",
   "id": "aaa84d2b",
   "metadata": {},
   "source": [
    "# Estabelecendo vizinhanças por contiguidade, critério QUEEN:"
   ]
  },
  {
   "cell_type": "code",
   "execution_count": null,
   "id": "a7313523",
   "metadata": {},
   "outputs": [],
   "source": [
    "# nomes das variáveis\n",
    "shp_sp.columns"
   ]
  },
  {
   "cell_type": "markdown",
   "id": "142623ab",
   "metadata": {},
   "source": [
    "## Para vizualizar as vizinhanças, o centroide deve ser definido em metros e não em graus. Portanto, deve-se alterar a geometria (o CRS) dos dados"
   ]
  },
  {
   "cell_type": "code",
   "execution_count": null,
   "id": "16c872a7",
   "metadata": {},
   "outputs": [],
   "source": [
    "shp_sp_m = shp_sp.to_crs(5880)"
   ]
  },
  {
   "cell_type": "code",
   "execution_count": null,
   "id": "c5ac9e87",
   "metadata": {},
   "outputs": [],
   "source": [
    "import libpysal\n",
    "from libpysal.weights import Queen, Rook, KNN, Kernel, weights"
   ]
  },
  {
   "cell_type": "code",
   "execution_count": null,
   "id": "bee69501",
   "metadata": {},
   "outputs": [],
   "source": [
    "w_queen = Queen.from_dataframe(shp_sp_m)"
   ]
  },
  {
   "cell_type": "markdown",
   "id": "b0ed1487",
   "metadata": {},
   "source": [
    "### Veja que é identificada a presença de uma ilha, de id = 246. Significa que este município não tem vizinhança com nenhum outro"
   ]
  },
  {
   "cell_type": "code",
   "execution_count": null,
   "id": "67fbcf7d",
   "metadata": {},
   "outputs": [],
   "source": [
    "# Para saber qual é o município, é só acessar o index do shapefile de SP\n",
    "shp_sp['NM_MUNICIP'][[246]]"
   ]
  },
  {
   "cell_type": "markdown",
   "id": "4599040e",
   "metadata": {},
   "source": [
    "# Visualizando a vizinhança estabelecida"
   ]
  },
  {
   "cell_type": "code",
   "execution_count": null,
   "id": "6913fa36",
   "metadata": {
    "scrolled": false
   },
   "outputs": [],
   "source": [
    "ax = shp_sp_m.plot(edgecolor='grey', facecolor='w', figsize = (25,25))\n",
    "f,ax = w_queen.plot(shp_sp_m, ax=ax,\n",
    "        edge_kws=dict(color='r', linestyle=':', linewidth=1),\n",
    "        node_kws=dict(marker='o'))\n",
    "ax.set_axis_off()"
   ]
  },
  {
   "cell_type": "markdown",
   "id": "33fe4e3e",
   "metadata": {},
   "source": [
    "## Informações relevantes sobre a vizinhança queen estabelecida:"
   ]
  },
  {
   "cell_type": "code",
   "execution_count": null,
   "id": "9b5463c9",
   "metadata": {},
   "outputs": [],
   "source": [
    "#Alguns atributos da matrix\n",
    "print(\"Número de regiões: \", w_queen.n) \n",
    "print(\"Número de conexões:\", w_queen.nonzero)\n",
    "print(\"Porcentagem de conexões:\", w_queen.pct_nonzero)\n",
    "print(\"Município ilha: \", w_queen.islands) # Municipios que são ilhas (sem conector)\n",
    "print(\"Maior número de conexões: \", w_queen.max_neighbors) \n",
    "print(\"Média número de conexões: \", w_queen.mean_neighbors) \n",
    "print(\"Menor número de conexões: \", w_queen.min_neighbors) "
   ]
  },
  {
   "cell_type": "code",
   "execution_count": null,
   "id": "5498ec63",
   "metadata": {},
   "outputs": [],
   "source": [
    "# Qual é a ilha?\n",
    "shp_sp_m['NM_MUNICIP'][w_queen.islands]"
   ]
  },
  {
   "cell_type": "code",
   "execution_count": null,
   "id": "1ffff255",
   "metadata": {},
   "outputs": [],
   "source": [
    "# Dicionário com o número de conexões de cada município\n",
    "w_queen.cardinalities"
   ]
  },
  {
   "cell_type": "code",
   "execution_count": null,
   "id": "f0a46d2e",
   "metadata": {},
   "outputs": [],
   "source": [
    "#Distribuição por número de conexões\n",
    "w_queen.histogram"
   ]
  },
  {
   "cell_type": "code",
   "execution_count": null,
   "id": "7be24f08",
   "metadata": {},
   "outputs": [],
   "source": [
    "w_queen.neighbors"
   ]
  },
  {
   "cell_type": "markdown",
   "id": "4c42ca98",
   "metadata": {},
   "source": [
    "### Vizualização da matriz Queen"
   ]
  },
  {
   "cell_type": "code",
   "execution_count": null,
   "id": "6280ae7e",
   "metadata": {},
   "outputs": [],
   "source": [
    "pd.DataFrame(*w_queen.full()).astype(int)"
   ]
  },
  {
   "cell_type": "markdown",
   "id": "eab09a8a",
   "metadata": {},
   "source": [
    "# Estabelecendo vizinhanças por contiguidade, critério ROOK:"
   ]
  },
  {
   "cell_type": "code",
   "execution_count": null,
   "id": "13fb5dac",
   "metadata": {},
   "outputs": [],
   "source": [
    "w_rook = Rook.from_dataframe(shp_sp_m)"
   ]
  },
  {
   "cell_type": "markdown",
   "id": "6b8d6bbc",
   "metadata": {},
   "source": [
    "## Visualizando a vizinhança estabelecida"
   ]
  },
  {
   "cell_type": "code",
   "execution_count": null,
   "id": "6721ba15",
   "metadata": {},
   "outputs": [],
   "source": [
    "ax = shp_sp_m.plot(edgecolor='grey', facecolor='w', figsize = (25,25))\n",
    "f,ax = w_rook.plot(shp_sp_m, ax=ax,\n",
    "        edge_kws=dict(color='r', linestyle=':', linewidth=1),\n",
    "        node_kws=dict(marker='o'))\n",
    "ax.set_axis_off()"
   ]
  },
  {
   "cell_type": "markdown",
   "id": "a75b9aa8",
   "metadata": {},
   "source": [
    "## Informações relevantes sobre a vizinhança queen estabelecida:"
   ]
  },
  {
   "cell_type": "code",
   "execution_count": null,
   "id": "1758f7fe",
   "metadata": {},
   "outputs": [],
   "source": [
    "#Alguns atributos da matrix\n",
    "print(\"Número de regiões: \", w_rook.n) \n",
    "print(\"Número de conexões:\", w_rook.nonzero)\n",
    "print(\"Porcentagem de conexões:\", w_rook.pct_nonzero)\n",
    "print(\"Município ilha: \", w_rook.islands) # Municipios que são ilhas (sem conector)\n",
    "print(\"Maior número de conexões: \", w_rook.max_neighbors) \n",
    "print(\"Média número de conexões: \", w_rook.mean_neighbors) \n",
    "print(\"Menor número de conexões: \", w_rook.min_neighbors) "
   ]
  },
  {
   "cell_type": "code",
   "execution_count": null,
   "id": "15382623",
   "metadata": {},
   "outputs": [],
   "source": [
    "#Distribuição por número de conexões\n",
    "w_rook.histogram"
   ]
  },
  {
   "cell_type": "markdown",
   "id": "81d449f9",
   "metadata": {},
   "source": [
    "# Vizinhanças por Distância Geográfica"
   ]
  },
  {
   "cell_type": "code",
   "execution_count": null,
   "id": "a15de935",
   "metadata": {},
   "outputs": [],
   "source": [
    "# Carregando o shapefile\n",
    "shp_ba = gpd.read_file('shapefiles/ba_state.shp', encoding = 'windows-1252')"
   ]
  },
  {
   "cell_type": "code",
   "execution_count": null,
   "id": "38610704",
   "metadata": {},
   "outputs": [],
   "source": [
    "shp_ba.head()"
   ]
  },
  {
   "cell_type": "code",
   "execution_count": null,
   "id": "40de59a4",
   "metadata": {},
   "outputs": [],
   "source": [
    "vizinhos_distancia = Kernel.from_dataframe(shp_sp_m)"
   ]
  },
  {
   "cell_type": "code",
   "execution_count": null,
   "id": "6b13b066",
   "metadata": {},
   "outputs": [],
   "source": [
    "vizinhos_distancia.function"
   ]
  },
  {
   "cell_type": "code",
   "execution_count": null,
   "id": "788f7cae",
   "metadata": {},
   "outputs": [],
   "source": [
    "vizinhos_distancia.bandwidth[0:5]"
   ]
  },
  {
   "cell_type": "code",
   "execution_count": null,
   "id": "b31c058f",
   "metadata": {},
   "outputs": [],
   "source": [
    "# Build weights with adaptive bandwidth\n",
    "w_adaptive = Kernel.from_dataframe(\n",
    "    shp_sp_m,fixed=False, k=1\n",
    ")\n",
    "# Print first five bandwidth values\n",
    "w_adaptive.bandwidth[:5]"
   ]
  },
  {
   "cell_type": "code",
   "execution_count": null,
   "id": "a9f86cd5",
   "metadata": {},
   "outputs": [],
   "source": [
    "# Create full matrix version of weights\n",
    "full_matrix, ids = w_adaptive.full()\n",
    "# Set up figure with two subplots in a row\n",
    "f,ax = plt.subplots(\n",
    "    1, 2, figsize=(12,6), subplot_kw=dict(aspect='equal')\n",
    ")\n",
    "# Append weights for first polygon and plot on first subplot\n",
    "shp_sp_m.assign(\n",
    "    weight_0 = full_matrix[0]\n",
    ").plot(\"weight_0\", cmap='plasma', ax=ax[0])\n",
    "# Append weights for 18th polygon and plot on first subplot\n",
    "shp_sp_m.assign(\n",
    "    weight_18 = full_matrix[17]\n",
    ").plot(\"weight_18\", cmap='plasma', ax=ax[1])\n",
    "# Add centroid of focal tracts\n",
    "shp_sp_m.iloc[[0], :].centroid.plot(\n",
    "    ax=ax[0], marker=\"*\", color=\"k\", label='Focal Tract'\n",
    ")\n",
    "shp_sp_m.iloc[[17], :].centroid.plot(\n",
    "    ax=ax[1], marker=\"*\", color=\"k\", label='Focal Tract'\n",
    ")\n",
    "# Add titles\n",
    "ax[0].set_title(\"Kernel centered on first tract\")\n",
    "ax[1].set_title(\"Kernel centered on 18th tract\")\n",
    "# Remove axis\n",
    "[ax_.set_axis_off() for ax_ in ax]\n",
    "# Add legend\n",
    "[ax_.legend(loc='upper left') for ax_ in ax];"
   ]
  },
  {
   "cell_type": "code",
   "execution_count": null,
   "id": "74d9034a",
   "metadata": {},
   "outputs": [],
   "source": [
    "vizinhos_distancia.pct_nonzero"
   ]
  },
  {
   "cell_type": "code",
   "execution_count": null,
   "id": "978831a4",
   "metadata": {},
   "outputs": [],
   "source": [
    "#Alguns atributos da matrix\n",
    "print(\"Número de regiões: \", vizinhos_distancia.n) \n",
    "print(\"Número de conexões:\", vizinhos_distancia.nonzero)\n",
    "print(\"Porcentagem de conexões:\", vizinhos_distancia.pct_nonzero)\n",
    "print(\"Município ilha: \", vizinhos_distancia.islands) # Municipios que são ilhas (sem conector)\n",
    "print(\"Maior número de conexões: \", vizinhos_distancia.max_neighbors) \n",
    "print(\"Média número de conexões: \", vizinhos_distancia.mean_neighbors) \n",
    "print(\"Menor número de conexões: \", vizinhos_distancia.min_neighbors) "
   ]
  },
  {
   "cell_type": "markdown",
   "id": "260d2225",
   "metadata": {},
   "source": [
    "# TO BE CONTINUED..."
   ]
  },
  {
   "cell_type": "markdown",
   "id": "ad44c4d1",
   "metadata": {},
   "source": [
    "# Referências"
   ]
  },
  {
   "cell_type": "markdown",
   "id": "f61cbffa",
   "metadata": {},
   "source": [
    "* Referência: https://www.patriciaramos.org/espacial\n",
    "* Pesos/Vizinhança: https://geographicdata.science/book/notebooks/04_spatial_weights.html\n",
    "* https://splot.readthedocs.io/en/latest/installation.html\n",
    "* https://pysal.org/libpysal/api.html"
   ]
  }
 ],
 "metadata": {
  "kernelspec": {
   "display_name": "Python 3 (ipykernel)",
   "language": "python",
   "name": "python3"
  },
  "language_info": {
   "codemirror_mode": {
    "name": "ipython",
    "version": 3
   },
   "file_extension": ".py",
   "mimetype": "text/x-python",
   "name": "python",
   "nbconvert_exporter": "python",
   "pygments_lexer": "ipython3",
   "version": "3.9.7"
  }
 },
 "nbformat": 4,
 "nbformat_minor": 5
}
