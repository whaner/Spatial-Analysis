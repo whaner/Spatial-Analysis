{
 "cells": [
  {
   "cell_type": "markdown",
   "id": "3e0d7574",
   "metadata": {},
   "source": [
    "## Análise Espacial - MBA em DSA - USP-ESALQ - Prof. Dr. Rafael de Freitas Souza"
   ]
  },
  {
   "cell_type": "markdown",
   "id": "050e58f4",
   "metadata": {},
   "source": [
    "## Aula 2 - Simple Feature e Spatial Points"
   ]
  },
  {
   "cell_type": "markdown",
   "id": "ac1e294b",
   "metadata": {},
   "source": [
    "## Importando as bibliotecas"
   ]
  },
  {
   "cell_type": "code",
   "execution_count": null,
   "id": "b0aed7e8",
   "metadata": {},
   "outputs": [],
   "source": [
    "pip install rdata"
   ]
  },
  {
   "cell_type": "code",
   "execution_count": null,
   "id": "6fea38d3",
   "metadata": {},
   "outputs": [],
   "source": [
    "import pandas as pd\n",
    "import geopandas as gpd\n",
    "import matplotlib.pyplot as plt\n",
    "#import fiona\n",
    "#import numpy as np\n",
    "import pyreadr\n",
    "#import contextily as cx"
   ]
  },
  {
   "cell_type": "code",
   "execution_count": null,
   "id": "e8e23801",
   "metadata": {
    "scrolled": true
   },
   "outputs": [],
   "source": [
    "#No notebook sobre shapefiles, usamos a library pyreadr para ler um RData\n",
    "shoppings = pyreadr.read_r('shoppings.RData')\n",
    "shoppings = shoppings['shoppings']\n",
    "shoppings.tail()"
   ]
  },
  {
   "cell_type": "markdown",
   "id": "2dc23592",
   "metadata": {},
   "source": [
    "### Veja que com a biblioteca pyreadr tivemos problemas com o encoding, já que ela não permite a definição do mesmo na hora da importação, portanto, vamos usar uma outra biblioteca para importar arquivos RData para o python: a rdata"
   ]
  },
  {
   "cell_type": "code",
   "execution_count": null,
   "id": "ca3aa063",
   "metadata": {},
   "outputs": [],
   "source": [
    "import rdata"
   ]
  },
  {
   "cell_type": "code",
   "execution_count": null,
   "id": "1b2f6e05",
   "metadata": {},
   "outputs": [],
   "source": [
    "parsed = rdata.parser.parse_file(\"shoppings.RData\")\n",
    "converted = rdata.conversion.convert(parsed, default_encoding=\"utf8\")\n",
    "shoppings = pd.DataFrame(converted['shoppings'])"
   ]
  },
  {
   "cell_type": "code",
   "execution_count": null,
   "id": "efca1e68",
   "metadata": {},
   "outputs": [],
   "source": [
    "shoppings.tail()"
   ]
  },
  {
   "cell_type": "markdown",
   "id": "c19f39f8",
   "metadata": {},
   "source": [
    "## Criando um sf a partir de um dataframe\n",
    "https://geopandas.org/en/latest/gallery/create_geopandas_from_pandas.html"
   ]
  },
  {
   "cell_type": "code",
   "execution_count": null,
   "id": "bde87bbc",
   "metadata": {},
   "outputs": [],
   "source": [
    "sf_shopping = gpd.GeoDataFrame(\n",
    "    shoppings, geometry=gpd.points_from_xy(shoppings.longitude, shoppings.latitude, crs=4326))"
   ]
  },
  {
   "cell_type": "code",
   "execution_count": null,
   "id": "0083e1a2",
   "metadata": {},
   "outputs": [],
   "source": [
    "sf_shopping.head()"
   ]
  },
  {
   "cell_type": "code",
   "execution_count": null,
   "id": "76c27611",
   "metadata": {},
   "outputs": [],
   "source": [
    "sf_shopping.plot(figsize=(10,10))"
   ]
  },
  {
   "cell_type": "code",
   "execution_count": null,
   "id": "800b8c6c",
   "metadata": {},
   "outputs": [],
   "source": [
    "#Extraindo o Bounding Box do dataset (xmin, ymin, xmax e ymax)\n",
    "sf_shopping.total_bounds"
   ]
  },
  {
   "cell_type": "code",
   "execution_count": null,
   "id": "007155b5",
   "metadata": {},
   "outputs": [],
   "source": [
    "#Extraindo o CRS do dataset\n",
    "sf_shopping.crs"
   ]
  },
  {
   "cell_type": "markdown",
   "id": "73f3c118",
   "metadata": {},
   "source": [
    "# Combinando um objeto simple feature com um shapefile"
   ]
  },
  {
   "cell_type": "markdown",
   "id": "8f7aa8bb",
   "metadata": {},
   "source": [
    "## Sobrepondo mapas (layers)\n"
   ]
  },
  {
   "cell_type": "code",
   "execution_count": null,
   "id": "cbe8eb60",
   "metadata": {},
   "outputs": [],
   "source": [
    "shp_saopaulo = gpd.read_file('shapefiles/municipio_sp.shp')"
   ]
  },
  {
   "cell_type": "code",
   "execution_count": null,
   "id": "770503c3",
   "metadata": {},
   "outputs": [],
   "source": [
    "shp_saopaulo.head()"
   ]
  },
  {
   "cell_type": "code",
   "execution_count": null,
   "id": "347aca1f",
   "metadata": {},
   "outputs": [],
   "source": [
    "shp_saopaulo.crs"
   ]
  },
  {
   "cell_type": "code",
   "execution_count": null,
   "id": "d647b25f",
   "metadata": {},
   "outputs": [],
   "source": [
    "shp_saopaulo.plot(figsize=(5,5), color='white', edgecolor='black')"
   ]
  },
  {
   "cell_type": "code",
   "execution_count": null,
   "id": "c591ae44",
   "metadata": {},
   "outputs": [],
   "source": [
    "#Como a geometria do dataset dos shoppings está em graus, é necessário alterar o CRS do shapefile da cidade de SP\n",
    "shp_saopaulo = shp_saopaulo.to_crs(4326)"
   ]
  },
  {
   "cell_type": "code",
   "execution_count": null,
   "id": "294c5c04",
   "metadata": {},
   "outputs": [],
   "source": [
    "#https://geopandas.org/en/latest/docs/reference/api/geopandas.GeoDataFrame.plot.html\n",
    "base = shp_saopaulo.plot(color='white', edgecolor='black', figsize = (12,12))\n",
    "sf_shopping.plot(column = 'regiao', ax=base, marker='o', markersize=50, legend = True);"
   ]
  },
  {
   "cell_type": "code",
   "execution_count": null,
   "id": "55281fe9",
   "metadata": {},
   "outputs": [],
   "source": [
    "sf_shopping.explore(legend = False, marker_kwds = {'radius': 10, 'fill': True, 'color': 'green'})"
   ]
  },
  {
   "cell_type": "markdown",
   "id": "2d6d2529",
   "metadata": {},
   "source": [
    "# Buffer Analysis\n",
    "### O buffering é uma técnica para se medir distâncias para fora de um dado ponto geográfico.\n",
    "### Referência: https://geopandas.org/en/stable/getting_started/introduction.html?highlight=buffer"
   ]
  },
  {
   "cell_type": "code",
   "execution_count": null,
   "id": "988f06e3",
   "metadata": {},
   "outputs": [],
   "source": [
    "#Como a geometria estava em graus, foi necessário alterar o CRS\n",
    "sf_shopping = sf_shopping.to_crs(22523) #Mesmo CRS usado pelo professor para considerar a distância Euclidiana"
   ]
  },
  {
   "cell_type": "code",
   "execution_count": null,
   "id": "f50b6d49",
   "metadata": {},
   "outputs": [],
   "source": [
    "sf_shopping.crs"
   ]
  },
  {
   "cell_type": "markdown",
   "id": "8050139d",
   "metadata": {},
   "source": [
    "### Diferentemente do R, no Python não é necessário vc transformar um SF em SP para o buffering."
   ]
  },
  {
   "cell_type": "code",
   "execution_count": null,
   "id": "764340bb",
   "metadata": {},
   "outputs": [],
   "source": [
    "#Aqui é criado um novo feature (coluna) no dataset com os valores do buffering\n",
    "sf_shopping[\"buffered\"] = sf_shopping.buffer(1500) #usamos a distância dde 1500 metros para o buffering"
   ]
  },
  {
   "cell_type": "code",
   "execution_count": null,
   "id": "e53aa885",
   "metadata": {},
   "outputs": [],
   "source": [
    "sf_shopping.head()"
   ]
  },
  {
   "cell_type": "code",
   "execution_count": null,
   "id": "2f39e039",
   "metadata": {
    "scrolled": true
   },
   "outputs": [],
   "source": [
    "ax = sf_shopping[\"buffered\"].plot(color='none', edgecolor='black', figsize = (5,5))"
   ]
  },
  {
   "cell_type": "code",
   "execution_count": null,
   "id": "182a0141",
   "metadata": {
    "scrolled": false
   },
   "outputs": [],
   "source": [
    "sf_shopping['buffered'].explore(color = 'black', style_kwds = {'fill': False, 'weight': 1})"
   ]
  },
  {
   "cell_type": "markdown",
   "id": "8cfc6a60",
   "metadata": {},
   "source": [
    "## Combinando os objetos shp_saopaulo, sf_shoppings e buffer_shoppings"
   ]
  },
  {
   "cell_type": "code",
   "execution_count": null,
   "id": "ba996a25",
   "metadata": {},
   "outputs": [],
   "source": [
    "#Primeiro, vamos ter certeza que o CRS dos dois é o mesmo\n",
    "shp_saopaulo = shp_saopaulo.to_crs(4326)\n",
    "sf_shopping = sf_shopping.to_crs(4326)"
   ]
  },
  {
   "cell_type": "code",
   "execution_count": null,
   "id": "4d27d04b",
   "metadata": {},
   "outputs": [],
   "source": [
    "#Veja que o referencial da coluna buffer criada é em metores, enquanto a geometria está em long/lat.\n",
    "sf_shopping.head()"
   ]
  },
  {
   "cell_type": "code",
   "execution_count": null,
   "id": "c11c4728",
   "metadata": {},
   "outputs": [],
   "source": [
    "#Aqui estamos alteranddo o CRS da coluna buffered para o mesmo que vamos usar na plotagem\n",
    "sf_shopping['buffered'] = sf_shopping['buffered'].to_crs(4326)"
   ]
  },
  {
   "cell_type": "code",
   "execution_count": null,
   "id": "56d884ad",
   "metadata": {},
   "outputs": [],
   "source": [
    "ax = sf_shopping['buffered'].plot(alpha = .1, edgecolor='black', figsize = (10,10))\n",
    "sf_shopping.plot(column = 'regiao', ax=ax, marker='o', markersize=50, legend = True);\n",
    "shp_saopaulo.plot(ax = ax, color='white', edgecolor='gray', figsize = (12,12),  zorder = 0)\n",
    "title = \"Shoppings na cidade de São Paulo\"\n",
    "plt.title(title, fontsize=21)"
   ]
  },
  {
   "cell_type": "code",
   "execution_count": null,
   "id": "0d93d883",
   "metadata": {},
   "outputs": [],
   "source": []
  }
 ],
 "metadata": {
  "kernelspec": {
   "display_name": "Python 3 (ipykernel)",
   "language": "python",
   "name": "python3"
  },
  "language_info": {
   "codemirror_mode": {
    "name": "ipython",
    "version": 3
   },
   "file_extension": ".py",
   "mimetype": "text/x-python",
   "name": "python",
   "nbconvert_exporter": "python",
   "pygments_lexer": "ipython3",
   "version": "3.9.7"
  }
 },
 "nbformat": 4,
 "nbformat_minor": 5
}
